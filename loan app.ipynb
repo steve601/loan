{
 "cells": [
  {
   "cell_type": "code",
   "execution_count": 1,
   "id": "ab32b976",
   "metadata": {},
   "outputs": [],
   "source": [
    "# importing libraries\n",
    "import pandas as pd\n",
    "import numpy as np\n",
    "import seaborn as sns\n",
    "import matplotlib.pyplot as plt\n",
    "from sklearn.preprocessing import StandardScaler,LabelEncoder\n",
    "from sklearn.ensemble import RandomForestClassifier\n",
    "from sklearn.metrics import accuracy_score\n",
    "from sklearn.model_selection import train_test_split\n",
    "from sklearn.linear_model import LogisticRegression\n",
    "from sklearn.svm import SVC"
   ]
  },
  {
   "cell_type": "code",
   "execution_count": 2,
   "id": "f47d9054",
   "metadata": {},
   "outputs": [
    {
     "data": {
      "text/html": [
       "<div>\n",
       "<style scoped>\n",
       "    .dataframe tbody tr th:only-of-type {\n",
       "        vertical-align: middle;\n",
       "    }\n",
       "\n",
       "    .dataframe tbody tr th {\n",
       "        vertical-align: top;\n",
       "    }\n",
       "\n",
       "    .dataframe thead th {\n",
       "        text-align: right;\n",
       "    }\n",
       "</style>\n",
       "<table border=\"1\" class=\"dataframe\">\n",
       "  <thead>\n",
       "    <tr style=\"text-align: right;\">\n",
       "      <th></th>\n",
       "      <th>Applicant_ID</th>\n",
       "      <th>Annual_Income</th>\n",
       "      <th>Applicant_Age</th>\n",
       "      <th>Work_Experience</th>\n",
       "      <th>Marital_Status</th>\n",
       "      <th>House_Ownership</th>\n",
       "      <th>Vehicle_Ownership(car)</th>\n",
       "      <th>Occupation</th>\n",
       "      <th>Residence_City</th>\n",
       "      <th>Residence_State</th>\n",
       "      <th>Years_in_Current_Employment</th>\n",
       "      <th>Years_in_Current_Residence</th>\n",
       "      <th>Loan_Default_Risk</th>\n",
       "    </tr>\n",
       "  </thead>\n",
       "  <tbody>\n",
       "    <tr>\n",
       "      <th>0</th>\n",
       "      <td>75722</td>\n",
       "      <td>9657655</td>\n",
       "      <td>76</td>\n",
       "      <td>0</td>\n",
       "      <td>single</td>\n",
       "      <td>rented</td>\n",
       "      <td>no</td>\n",
       "      <td>Psychologist</td>\n",
       "      <td>Jalandhar</td>\n",
       "      <td>Punjab</td>\n",
       "      <td>0</td>\n",
       "      <td>12</td>\n",
       "      <td>0</td>\n",
       "    </tr>\n",
       "    <tr>\n",
       "      <th>1</th>\n",
       "      <td>80185</td>\n",
       "      <td>9259353</td>\n",
       "      <td>37</td>\n",
       "      <td>18</td>\n",
       "      <td>single</td>\n",
       "      <td>rented</td>\n",
       "      <td>no</td>\n",
       "      <td>Petroleum_Engineer</td>\n",
       "      <td>Bally</td>\n",
       "      <td>West_Bengal</td>\n",
       "      <td>12</td>\n",
       "      <td>11</td>\n",
       "      <td>0</td>\n",
       "    </tr>\n",
       "    <tr>\n",
       "      <th>2</th>\n",
       "      <td>19865</td>\n",
       "      <td>1509721</td>\n",
       "      <td>66</td>\n",
       "      <td>8</td>\n",
       "      <td>single</td>\n",
       "      <td>rented</td>\n",
       "      <td>no</td>\n",
       "      <td>Drafter</td>\n",
       "      <td>Indore</td>\n",
       "      <td>Madhya_Pradesh</td>\n",
       "      <td>4</td>\n",
       "      <td>12</td>\n",
       "      <td>0</td>\n",
       "    </tr>\n",
       "    <tr>\n",
       "      <th>3</th>\n",
       "      <td>76700</td>\n",
       "      <td>5867312</td>\n",
       "      <td>43</td>\n",
       "      <td>1</td>\n",
       "      <td>single</td>\n",
       "      <td>owned</td>\n",
       "      <td>no</td>\n",
       "      <td>Chartered_Accountant</td>\n",
       "      <td>Kurnool[18]</td>\n",
       "      <td>Andhra_Pradesh</td>\n",
       "      <td>1</td>\n",
       "      <td>13</td>\n",
       "      <td>1</td>\n",
       "    </tr>\n",
       "    <tr>\n",
       "      <th>4</th>\n",
       "      <td>92992</td>\n",
       "      <td>7223191</td>\n",
       "      <td>44</td>\n",
       "      <td>9</td>\n",
       "      <td>single</td>\n",
       "      <td>rented</td>\n",
       "      <td>no</td>\n",
       "      <td>Air_traffic_controller</td>\n",
       "      <td>Asansol</td>\n",
       "      <td>West_Bengal</td>\n",
       "      <td>9</td>\n",
       "      <td>13</td>\n",
       "      <td>0</td>\n",
       "    </tr>\n",
       "  </tbody>\n",
       "</table>\n",
       "</div>"
      ],
      "text/plain": [
       "   Applicant_ID  Annual_Income  Applicant_Age  Work_Experience Marital_Status  \\\n",
       "0         75722        9657655             76                0         single   \n",
       "1         80185        9259353             37               18         single   \n",
       "2         19865        1509721             66                8         single   \n",
       "3         76700        5867312             43                1         single   \n",
       "4         92992        7223191             44                9         single   \n",
       "\n",
       "  House_Ownership Vehicle_Ownership(car)              Occupation  \\\n",
       "0          rented                     no            Psychologist   \n",
       "1          rented                     no      Petroleum_Engineer   \n",
       "2          rented                     no                 Drafter   \n",
       "3           owned                     no    Chartered_Accountant   \n",
       "4          rented                     no  Air_traffic_controller   \n",
       "\n",
       "  Residence_City Residence_State  Years_in_Current_Employment  \\\n",
       "0      Jalandhar          Punjab                            0   \n",
       "1          Bally     West_Bengal                           12   \n",
       "2         Indore  Madhya_Pradesh                            4   \n",
       "3    Kurnool[18]  Andhra_Pradesh                            1   \n",
       "4        Asansol     West_Bengal                            9   \n",
       "\n",
       "   Years_in_Current_Residence  Loan_Default_Risk  \n",
       "0                          12                  0  \n",
       "1                          11                  0  \n",
       "2                          12                  0  \n",
       "3                          13                  1  \n",
       "4                          13                  0  "
      ]
     },
     "execution_count": 2,
     "metadata": {},
     "output_type": "execute_result"
    }
   ],
   "source": [
    "# loading the dataset\n",
    "df = pd.read_csv('Applicant-details.csv')\n",
    "df.head()"
   ]
  },
  {
   "cell_type": "code",
   "execution_count": 3,
   "id": "6dcb2dec",
   "metadata": {},
   "outputs": [
    {
     "data": {
      "text/plain": [
       "array(['Jalandhar', 'Bally', 'Indore', 'Kurnool[18]', 'Asansol',\n",
       "       'Bongaigaon', 'Katihar', 'Sikar', 'Chinsurah', 'Muzaffarnagar',\n",
       "       'Darbhanga', 'Chandigarh_city', 'Adoni', 'Ludhiana', 'Amroha',\n",
       "       'Aligarh', 'Udupi', 'Delhi_city', 'Moradabad', 'Sonipat',\n",
       "       'Gandhinagar', 'Raebareli', 'Madhyamgram', 'Nashik', 'Bilaspur',\n",
       "       'Davanagere', 'Kakinada', 'Chandrapur', 'Sangli-Miraj_&_Kupwad',\n",
       "       'Dhule', 'Bhind', 'Kollam', 'Durg', 'Ajmer', 'Malegaon',\n",
       "       'Kottayam', 'Bhalswa_Jahangir_Pur', 'Gaya', 'Guna', 'Hapur',\n",
       "       'Agartala', 'Thiruvananthapuram', 'Kharagpur', 'Rewa', 'Jorhat',\n",
       "       'Ambattur', 'Sambhal', 'Etawah', 'Bellary', 'New_Delhi',\n",
       "       'South_Dumdum', 'Gangtok', 'Aizawl', 'Pimpri-Chinchwad',\n",
       "       'Nangloi_Jat', 'Anantapuram[24]', 'Mangalore', 'Hazaribagh',\n",
       "       'Kumbakonam', 'Jhansi', 'Proddatur', 'Avadi', 'Bhagalpur',\n",
       "       'Madanapalle', 'Meerut', 'Tiruppur', 'Jehanabad[38]',\n",
       "       'Machilipatnam', 'Howrah', 'Jamshedpur', 'Kolkata', 'Phagwara',\n",
       "       'Allahabad', 'Bhusawal', 'Giridih', 'Bangalore', 'Bhopal',\n",
       "       'Jalgaon', 'Deoghar', 'Jamnagar', 'Navi_Mumbai', 'Akola',\n",
       "       'Bhatpara', 'North_Dumdum', 'Ichalkaranji', 'Tirupati[21][22]',\n",
       "       'Surendranagar_Dudhrej', 'Junagadh', 'Karaikudi',\n",
       "       'Nellore[14][15]', 'Thrissur', 'Dewas', 'Jaipur', 'Faridabad',\n",
       "       'Arrah', 'Vadodara', 'Sambalpur', 'Baranagar', 'Bulandshahr',\n",
       "       'Vijayanagaram', 'Raipur', 'Nagercoil', 'Hyderabad', 'Siliguri',\n",
       "       'Pali', 'Saharsa[29]', 'Pallavaram', 'Srinagar', 'Vellore',\n",
       "       'Anand', 'Sirsa', 'Nadiad', 'Pune', 'Malda', 'Bareilly',\n",
       "       'Gudivada', 'Shimla', 'Bokaro', 'Haridwar', 'Satara',\n",
       "       'Hajipur[31]', 'Sri_Ganganagar', 'Gorakhpur', 'Khandwa', 'Tumkur',\n",
       "       'Bahraich', 'Uluberia', 'Panipat', 'Bidhannagar', 'Mirzapur',\n",
       "       'Erode[17]', 'Motihari[34]', 'Jodhpur', 'Salem', 'Rajpur_Sonarpur',\n",
       "       'Ramagundam[27]', 'Kozhikode', 'Tadipatri', 'Durgapur',\n",
       "       'Bhavnagar', 'Tiruvottiyur', 'Chennai', 'Berhampore', 'Satna',\n",
       "       'Bijapur', 'Mango', 'Guntur[13]', 'Panihati', 'Ghaziabad', 'Patna',\n",
       "       'Bharatpur', 'Buxar[37]', 'Latur', 'Nagpur', 'Bhiwani', 'Rajkot',\n",
       "       'Rohtak', 'Mathura', 'Kochi', 'Dehradun', 'Shimoga', 'Kadapa[23]',\n",
       "       'Gandhidham', 'Kulti', 'Hospet', 'Dharmavaram', 'Kavali',\n",
       "       'Siwan[32]', 'Nanded', 'Bidar', 'Ambala', 'Tinsukia',\n",
       "       'Tiruchirappalli[10]', 'Gulbarga', 'Lucknow', 'Phusro',\n",
       "       'Mira-Bhayandar', 'Serampore', 'Pondicherry', 'Ambarnath',\n",
       "       'Aurangabad[39]', 'Berhampur', 'Karimnagar', 'Rourkela',\n",
       "       'Ozhukarai', 'Khora,_Ghaziabad', 'Aurangabad', 'Mehsana',\n",
       "       'Srikakulam', 'Loni', 'Singrauli', 'Amaravati', 'Rampur',\n",
       "       'Pudukkottai', 'Mysore[7][8][9]', 'Bhilai', 'Bhilwara', 'Mumbai',\n",
       "       'Barasat', 'Tirunelveli', 'Kamarhati', 'Silchar', 'Agra', 'Surat',\n",
       "       'Noida', 'Guntakal', 'Madurai', 'Ulhasnagar', 'Firozabad',\n",
       "       'Karnal', 'Kishanganj[35]', 'Tenali', 'Burhanpur', 'Bhimavaram',\n",
       "       'Warangal[11][12]', 'Jamalpur[36]', 'Parbhani', 'Sasaram[30]',\n",
       "       'Orai', 'Unnao', 'Jabalpur', 'Raurkela_Industrial_Township',\n",
       "       'Miryalaguda', 'Vijayawada', 'Amravati', 'Korba', 'Dhanbad', 'Mau',\n",
       "       'Shahjahanpur', 'Saharanpur', 'Jalna', 'Vasai-Virar', 'Bathinda',\n",
       "       'Ranchi', 'Begusarai', 'Nandyal', 'Alappuzha', 'Bhiwandi',\n",
       "       'Rajahmundry[19][20]', 'Thoothukudi', 'Ballia', 'Nizamabad',\n",
       "       'Ahmedabad', 'Solapur', 'Cuttack', 'Haldia', 'Panchkula',\n",
       "       'Amritsar', 'Khammam', 'Kolhapur', 'Panvel', 'Hubliâ€“Dharwad',\n",
       "       'Dibrugarh', 'Coimbatore', 'Danapur', 'Farrukhabad', 'Suryapet',\n",
       "       'Varanasi', 'Jammu[16]', 'Purnia[26]', 'Anantapur', 'Bhubaneswar',\n",
       "       'Medininagar', 'Morena', 'Belgaum', 'Kirari_Suleman_Nagar',\n",
       "       'Thanjavur', 'Ratlam', 'Katni', 'Karawal_Nagar', 'Dehri[30]',\n",
       "       'Visakhapatnam[4]', 'Ramgarh', 'Thane', 'Bikaner', 'Morbi',\n",
       "       'Fatehpur', 'Muzaffarpur', 'Raiganj', 'Shivpuri', 'Patiala',\n",
       "       'Mahbubnagar', 'Chittoor[28]', 'Jaunpur', 'Ahmednagar', 'Udaipur',\n",
       "       'Sultan_Pur_Majra', 'Chapra', 'Tezpur', 'Kalyan-Dombivli', 'Alwar',\n",
       "       'Ongole', 'Bihar_Sharif', 'Gopalpur', 'Kota[6]', 'Hindupur',\n",
       "       'Eluru[25]', 'Raichur', 'Munger', 'Maheshtala', 'Hosur', 'Imphal',\n",
       "       'Bardhaman', 'Nagaon', 'Tadepalligudem', 'Secunderabad',\n",
       "       'Dindigul', 'Gwalior', 'Narasaraopet', 'Sagar', 'Naihati',\n",
       "       'Kanpur', 'Yamunanagar', 'Gurgaon', 'Bettiah[33]', 'Guwahati',\n",
       "       'Ujjain'], dtype=object)"
      ]
     },
     "execution_count": 3,
     "metadata": {},
     "output_type": "execute_result"
    }
   ],
   "source": [
    "df['Residence_City'].unique()"
   ]
  },
  {
   "cell_type": "code",
   "execution_count": 4,
   "id": "468be83a",
   "metadata": {},
   "outputs": [],
   "source": [
    "# let's drop the 'ID' column as it is always not used in modelling\n",
    "df.drop('Applicant_ID',axis=1,inplace=True)"
   ]
  },
  {
   "cell_type": "code",
   "execution_count": 5,
   "id": "0538e836",
   "metadata": {},
   "outputs": [
    {
     "name": "stdout",
     "output_type": "stream",
     "text": [
      "<class 'pandas.core.frame.DataFrame'>\n",
      "RangeIndex: 100000 entries, 0 to 99999\n",
      "Data columns (total 12 columns):\n",
      " #   Column                       Non-Null Count   Dtype \n",
      "---  ------                       --------------   ----- \n",
      " 0   Annual_Income                100000 non-null  int64 \n",
      " 1   Applicant_Age                100000 non-null  int64 \n",
      " 2   Work_Experience              100000 non-null  int64 \n",
      " 3   Marital_Status               100000 non-null  object\n",
      " 4   House_Ownership              100000 non-null  object\n",
      " 5   Vehicle_Ownership(car)       100000 non-null  object\n",
      " 6   Occupation                   100000 non-null  object\n",
      " 7   Residence_City               100000 non-null  object\n",
      " 8   Residence_State              100000 non-null  object\n",
      " 9   Years_in_Current_Employment  100000 non-null  int64 \n",
      " 10  Years_in_Current_Residence   100000 non-null  int64 \n",
      " 11  Loan_Default_Risk            100000 non-null  int64 \n",
      "dtypes: int64(6), object(6)\n",
      "memory usage: 9.2+ MB\n"
     ]
    }
   ],
   "source": [
    "# Overall information of the data\n",
    "df.info()"
   ]
  },
  {
   "cell_type": "code",
   "execution_count": 6,
   "id": "b40943ed",
   "metadata": {},
   "outputs": [
    {
     "data": {
      "text/plain": [
       "0    87003\n",
       "1    12997\n",
       "Name: Loan_Default_Risk, dtype: int64"
      ]
     },
     "execution_count": 6,
     "metadata": {},
     "output_type": "execute_result"
    }
   ],
   "source": [
    "df['Loan_Default_Risk'].value_counts()"
   ]
  },
  {
   "cell_type": "code",
   "execution_count": 7,
   "id": "6885d636",
   "metadata": {},
   "outputs": [
    {
     "data": {
      "text/plain": [
       "92822"
      ]
     },
     "execution_count": 7,
     "metadata": {},
     "output_type": "execute_result"
    }
   ],
   "source": [
    "#check and remove duplicates\n",
    "df.duplicated().sum()"
   ]
  },
  {
   "cell_type": "code",
   "execution_count": 8,
   "id": "204f587f",
   "metadata": {},
   "outputs": [],
   "source": [
    "df.drop_duplicates(inplace=True)"
   ]
  },
  {
   "cell_type": "markdown",
   "id": "35d046af",
   "metadata": {},
   "source": [
    "## EDA and Data Preprocessing"
   ]
  },
  {
   "cell_type": "code",
   "execution_count": 9,
   "id": "3eaf9dc5",
   "metadata": {},
   "outputs": [
    {
     "data": {
      "text/plain": [
       "Index(['Annual_Income', 'Applicant_Age', 'Work_Experience', 'Marital_Status',\n",
       "       'House_Ownership', 'Vehicle_Ownership(car)', 'Occupation',\n",
       "       'Residence_City', 'Residence_State', 'Years_in_Current_Employment',\n",
       "       'Years_in_Current_Residence', 'Loan_Default_Risk'],\n",
       "      dtype='object')"
      ]
     },
     "execution_count": 9,
     "metadata": {},
     "output_type": "execute_result"
    }
   ],
   "source": [
    "df.columns"
   ]
  },
  {
   "cell_type": "code",
   "execution_count": 10,
   "id": "f0ba283b",
   "metadata": {},
   "outputs": [
    {
     "data": {
      "text/html": [
       "<div>\n",
       "<style scoped>\n",
       "    .dataframe tbody tr th:only-of-type {\n",
       "        vertical-align: middle;\n",
       "    }\n",
       "\n",
       "    .dataframe tbody tr th {\n",
       "        vertical-align: top;\n",
       "    }\n",
       "\n",
       "    .dataframe thead th {\n",
       "        text-align: right;\n",
       "    }\n",
       "</style>\n",
       "<table border=\"1\" class=\"dataframe\">\n",
       "  <thead>\n",
       "    <tr style=\"text-align: right;\">\n",
       "      <th></th>\n",
       "      <th>Annual_Income</th>\n",
       "      <th>Applicant_Age</th>\n",
       "      <th>Work_Experience</th>\n",
       "      <th>Years_in_Current_Employment</th>\n",
       "      <th>Years_in_Current_Residence</th>\n",
       "      <th>Loan_Default_Risk</th>\n",
       "    </tr>\n",
       "  </thead>\n",
       "  <tbody>\n",
       "    <tr>\n",
       "      <th>count</th>\n",
       "      <td>7.178000e+03</td>\n",
       "      <td>7178.000000</td>\n",
       "      <td>7178.000000</td>\n",
       "      <td>7178.000000</td>\n",
       "      <td>7178.000000</td>\n",
       "      <td>7178.000000</td>\n",
       "    </tr>\n",
       "    <tr>\n",
       "      <th>mean</th>\n",
       "      <td>4.994875e+06</td>\n",
       "      <td>49.999582</td>\n",
       "      <td>10.067986</td>\n",
       "      <td>6.354416</td>\n",
       "      <td>11.991920</td>\n",
       "      <td>0.164809</td>\n",
       "    </tr>\n",
       "    <tr>\n",
       "      <th>std</th>\n",
       "      <td>2.885524e+06</td>\n",
       "      <td>17.059661</td>\n",
       "      <td>5.984407</td>\n",
       "      <td>3.651961</td>\n",
       "      <td>1.396144</td>\n",
       "      <td>0.371034</td>\n",
       "    </tr>\n",
       "    <tr>\n",
       "      <th>min</th>\n",
       "      <td>1.031000e+04</td>\n",
       "      <td>21.000000</td>\n",
       "      <td>0.000000</td>\n",
       "      <td>0.000000</td>\n",
       "      <td>10.000000</td>\n",
       "      <td>0.000000</td>\n",
       "    </tr>\n",
       "    <tr>\n",
       "      <th>25%</th>\n",
       "      <td>2.485976e+06</td>\n",
       "      <td>35.000000</td>\n",
       "      <td>5.000000</td>\n",
       "      <td>4.000000</td>\n",
       "      <td>11.000000</td>\n",
       "      <td>0.000000</td>\n",
       "    </tr>\n",
       "    <tr>\n",
       "      <th>50%</th>\n",
       "      <td>4.997104e+06</td>\n",
       "      <td>50.000000</td>\n",
       "      <td>10.000000</td>\n",
       "      <td>6.000000</td>\n",
       "      <td>12.000000</td>\n",
       "      <td>0.000000</td>\n",
       "    </tr>\n",
       "    <tr>\n",
       "      <th>75%</th>\n",
       "      <td>7.491472e+06</td>\n",
       "      <td>65.000000</td>\n",
       "      <td>15.000000</td>\n",
       "      <td>9.000000</td>\n",
       "      <td>13.000000</td>\n",
       "      <td>0.000000</td>\n",
       "    </tr>\n",
       "    <tr>\n",
       "      <th>max</th>\n",
       "      <td>9.999180e+06</td>\n",
       "      <td>79.000000</td>\n",
       "      <td>20.000000</td>\n",
       "      <td>14.000000</td>\n",
       "      <td>14.000000</td>\n",
       "      <td>1.000000</td>\n",
       "    </tr>\n",
       "  </tbody>\n",
       "</table>\n",
       "</div>"
      ],
      "text/plain": [
       "       Annual_Income  Applicant_Age  Work_Experience  \\\n",
       "count   7.178000e+03    7178.000000      7178.000000   \n",
       "mean    4.994875e+06      49.999582        10.067986   \n",
       "std     2.885524e+06      17.059661         5.984407   \n",
       "min     1.031000e+04      21.000000         0.000000   \n",
       "25%     2.485976e+06      35.000000         5.000000   \n",
       "50%     4.997104e+06      50.000000        10.000000   \n",
       "75%     7.491472e+06      65.000000        15.000000   \n",
       "max     9.999180e+06      79.000000        20.000000   \n",
       "\n",
       "       Years_in_Current_Employment  Years_in_Current_Residence  \\\n",
       "count                  7178.000000                 7178.000000   \n",
       "mean                      6.354416                   11.991920   \n",
       "std                       3.651961                    1.396144   \n",
       "min                       0.000000                   10.000000   \n",
       "25%                       4.000000                   11.000000   \n",
       "50%                       6.000000                   12.000000   \n",
       "75%                       9.000000                   13.000000   \n",
       "max                      14.000000                   14.000000   \n",
       "\n",
       "       Loan_Default_Risk  \n",
       "count        7178.000000  \n",
       "mean            0.164809  \n",
       "std             0.371034  \n",
       "min             0.000000  \n",
       "25%             0.000000  \n",
       "50%             0.000000  \n",
       "75%             0.000000  \n",
       "max             1.000000  "
      ]
     },
     "execution_count": 10,
     "metadata": {},
     "output_type": "execute_result"
    }
   ],
   "source": [
    "# statistical information of the data\n",
    "df.describe()"
   ]
  },
  {
   "cell_type": "markdown",
   "id": "e41e537a",
   "metadata": {},
   "source": [
    "## Let's do some exploration and cleaning of cat. columns\n",
    "### 'Marital_status'"
   ]
  },
  {
   "cell_type": "code",
   "execution_count": 11,
   "id": "d069519c",
   "metadata": {},
   "outputs": [],
   "source": [
    "def clean_marital(x):\n",
    "    if x == 'single':\n",
    "        return 'Single'\n",
    "    if x == 'married':\n",
    "        return 'Married'\n",
    "df['Marital_Status'] = df['Marital_Status'].apply(clean_marital)"
   ]
  },
  {
   "cell_type": "code",
   "execution_count": 12,
   "id": "59f799f7",
   "metadata": {
    "scrolled": true
   },
   "outputs": [
    {
     "data": {
      "text/plain": [
       "Single     6445\n",
       "Married     733\n",
       "Name: Marital_Status, dtype: int64"
      ]
     },
     "execution_count": 12,
     "metadata": {},
     "output_type": "execute_result"
    }
   ],
   "source": [
    "df['Marital_Status'].value_counts()"
   ]
  },
  {
   "cell_type": "code",
   "execution_count": 13,
   "id": "bda7f262",
   "metadata": {},
   "outputs": [
    {
     "data": {
      "text/plain": [
       "<Axes: xlabel='Marital_Status', ylabel='count'>"
      ]
     },
     "execution_count": 13,
     "metadata": {},
     "output_type": "execute_result"
    },
    {
     "data": {
      "image/png": "[encoded data removed]",
      "text/plain": [
       "<Figure size 640x480 with 1 Axes>"
      ]
     },
     "metadata": {},
     "output_type": "display_data"
    }
   ],
   "source": [
    "sns.countplot(x=df['Marital_Status'])"
   ]
  },
  {
   "cell_type": "markdown",
   "id": "5af2f045",
   "metadata": {},
   "source": [
    "### 'Loan_Default_Risk'"
   ]
  },
  {
   "cell_type": "code",
   "execution_count": 14,
   "id": "caadea0f",
   "metadata": {
    "scrolled": true
   },
   "outputs": [
    {
     "data": {
      "text/plain": [
       "0    5995\n",
       "1    1183\n",
       "Name: Loan_Default_Risk, dtype: int64"
      ]
     },
     "execution_count": 14,
     "metadata": {},
     "output_type": "execute_result"
    }
   ],
   "source": [
    "df['Loan_Default_Risk'].value_counts()"
   ]
  },
  {
   "cell_type": "code",
   "execution_count": 15,
   "id": "7792e87b",
   "metadata": {},
   "outputs": [
    {
     "data": {
      "text/plain": [
       "<Axes: xlabel='Loan_Default_Risk', ylabel='count'>"
      ]
     },
     "execution_count": 15,
     "metadata": {},
     "output_type": "execute_result"
    },
    {
     "data": {
      "image/png": "[encoded data removed]",
      "text/plain": [
       "<Figure size 640x480 with 1 Axes>"
      ]
     },
     "metadata": {},
     "output_type": "display_data"
    }
   ],
   "source": [
    "sns.countplot(x=df['Loan_Default_Risk'])"
   ]
  },
  {
   "cell_type": "markdown",
   "id": "9775655b",
   "metadata": {},
   "source": [
    "### 'House_Ownership'"
   ]
  },
  {
   "cell_type": "code",
   "execution_count": 16,
   "id": "ab3639d3",
   "metadata": {},
   "outputs": [],
   "source": [
    "def clean_house(x):\n",
    "    if x == 'rented':\n",
    "        return 'Rented'\n",
    "    if x == 'owned':\n",
    "        return 'Owned'\n",
    "    if x == 'norent_noown':\n",
    "        return 'None'\n",
    "df['House_Ownership'] = df['House_Ownership'].apply(clean_house)"
   ]
  },
  {
   "cell_type": "code",
   "execution_count": 17,
   "id": "802acf75",
   "metadata": {
    "scrolled": true
   },
   "outputs": [
    {
     "data": {
      "text/plain": [
       "Rented    6622\n",
       "Owned      363\n",
       "None       193\n",
       "Name: House_Ownership, dtype: int64"
      ]
     },
     "execution_count": 17,
     "metadata": {},
     "output_type": "execute_result"
    }
   ],
   "source": [
    "df['House_Ownership'].value_counts()"
   ]
  },
  {
   "cell_type": "code",
   "execution_count": 18,
   "id": "c7a5cdd2",
   "metadata": {},
   "outputs": [
    {
     "data": {
      "text/plain": [
       "<Axes: xlabel='House_Ownership', ylabel='count'>"
      ]
     },
     "execution_count": 18,
     "metadata": {},
     "output_type": "execute_result"
    },
    {
     "data": {
      "image/png": "[encoded data removed]",
      "text/plain": [
       "<Figure size 640x480 with 1 Axes>"
      ]
     },
     "metadata": {},
     "output_type": "display_data"
    }
   ],
   "source": [
    "sns.countplot(x=df['House_Ownership'])"
   ]
  },
  {
   "cell_type": "markdown",
   "id": "a1437e1f",
   "metadata": {},
   "source": [
    "### 'Vehicle_Ownership(car)'"
   ]
  },
  {
   "cell_type": "code",
   "execution_count": 19,
   "id": "0f01adb8",
   "metadata": {},
   "outputs": [],
   "source": [
    "def clean_vehicle(x):\n",
    "    if x == 'no':\n",
    "        return 'No'\n",
    "    if x == 'yes':\n",
    "        return 'Yes'\n",
    "df['Vehicle_Ownership(car)'] = df['Vehicle_Ownership(car)'].apply(clean_vehicle)"
   ]
  },
  {
   "cell_type": "code",
   "execution_count": 20,
   "id": "6d51ae79",
   "metadata": {
    "scrolled": true
   },
   "outputs": [
    {
     "data": {
      "text/plain": [
       "No     4987\n",
       "Yes    2191\n",
       "Name: Vehicle_Ownership(car), dtype: int64"
      ]
     },
     "execution_count": 20,
     "metadata": {},
     "output_type": "execute_result"
    }
   ],
   "source": [
    "df['Vehicle_Ownership(car)'].value_counts()"
   ]
  },
  {
   "cell_type": "code",
   "execution_count": 21,
   "id": "0b8013e6",
   "metadata": {},
   "outputs": [
    {
     "data": {
      "text/plain": [
       "<Axes: xlabel='Vehicle_Ownership(car)', ylabel='count'>"
      ]
     },
     "execution_count": 21,
     "metadata": {},
     "output_type": "execute_result"
    },
    {
     "data": {
      "image/png": "[encoded data removed]",
      "text/plain": [
       "<Figure size 640x480 with 1 Axes>"
      ]
     },
     "metadata": {},
     "output_type": "display_data"
    }
   ],
   "source": [
    "sns.countplot(x=df['Vehicle_Ownership(car)'])"
   ]
  },
  {
   "cell_type": "markdown",
   "id": "79ba3c35",
   "metadata": {},
   "source": [
    "### 'Occupation'"
   ]
  },
  {
   "cell_type": "code",
   "execution_count": 22,
   "id": "98a2ac4a",
   "metadata": {},
   "outputs": [
    {
     "data": {
      "text/plain": [
       "Physician                     170\n",
       "Statistician                  166\n",
       "Computer_hardware_engineer    157\n",
       "Fashion_Designer              155\n",
       "Web_designer                  155\n",
       "Magistrate                    155\n",
       "Technical_writer              155\n",
       "Air_traffic_controller        155\n",
       "Psychologist                  154\n",
       "Mechanical_engineer           151\n",
       "Comedian                      151\n",
       "Software_Developer            151\n",
       "Police_officer                150\n",
       "Drafter                       150\n",
       "Hotel_Manager                 150\n",
       "Chemical_engineer             149\n",
       "Biomedical_Engineer           149\n",
       "Secretary                     148\n",
       "Flight_attendant              148\n",
       "Financial_Analyst             147\n",
       "Graphic_Designer              146\n",
       "Industrial_Engineer           144\n",
       "Computer_operator             143\n",
       "Scientist                     142\n",
       "Politician                    140\n",
       "Technician                    139\n",
       "Microbiologist                139\n",
       "Surveyor                      139\n",
       "Lawyer                        138\n",
       "Aviator                       138\n",
       "Petroleum_Engineer            137\n",
       "Army_officer                  137\n",
       "Geologist                     137\n",
       "Artist                        137\n",
       "Consultant                    134\n",
       "Surgeon                       134\n",
       "Architect                     133\n",
       "Firefighter                   132\n",
       "Analyst                       131\n",
       "Civil_engineer                131\n",
       "Design_Engineer               130\n",
       "Chartered_Accountant          130\n",
       "Dentist                       130\n",
       "Chef                          128\n",
       "Designer                      126\n",
       "Technology_specialist         126\n",
       "Librarian                     125\n",
       "Economist                     122\n",
       "Civil_servant                 119\n",
       "Engineer                      113\n",
       "Official                      112\n",
       "Name: Occupation, dtype: int64"
      ]
     },
     "execution_count": 22,
     "metadata": {},
     "output_type": "execute_result"
    }
   ],
   "source": [
    "df['Occupation'].value_counts()"
   ]
  },
  {
   "cell_type": "markdown",
   "id": "295e3692",
   "metadata": {},
   "source": [
    "### 'Residence_City'"
   ]
  },
  {
   "cell_type": "code",
   "execution_count": 23,
   "id": "7afc3ad2",
   "metadata": {
    "scrolled": true
   },
   "outputs": [
    {
     "data": {
      "text/plain": [
       "Vijayanagaram       38\n",
       "Vijayawada          37\n",
       "Indore              36\n",
       "Srinagar            36\n",
       "Bhopal              36\n",
       "                    ..\n",
       "Loni                12\n",
       "Tadipatri           12\n",
       "Katni               10\n",
       "Warangal[11][12]    10\n",
       "Karaikudi            9\n",
       "Name: Residence_City, Length: 317, dtype: int64"
      ]
     },
     "execution_count": 23,
     "metadata": {},
     "output_type": "execute_result"
    }
   ],
   "source": [
    "df['Residence_City'].value_counts()"
   ]
  },
  {
   "cell_type": "markdown",
   "id": "cf6c8fa3",
   "metadata": {},
   "source": [
    "### 'Residence_State'"
   ]
  },
  {
   "cell_type": "code",
   "execution_count": 24,
   "id": "4e49272c",
   "metadata": {
    "scrolled": true
   },
   "outputs": [
    {
     "data": {
      "text/plain": [
       "Uttar_Pradesh        790\n",
       "Maharashtra          737\n",
       "Andhra_Pradesh       734\n",
       "West_Bengal          666\n",
       "Bihar                568\n",
       "Tamil_Nadu           466\n",
       "Madhya_Pradesh       414\n",
       "Karnataka            329\n",
       "Gujarat              322\n",
       "Rajasthan            265\n",
       "Jharkhand            257\n",
       "Haryana              219\n",
       "Telangana            211\n",
       "Assam                206\n",
       "Kerala               171\n",
       "Delhi                155\n",
       "Odisha               133\n",
       "Punjab               128\n",
       "Chhattisgarh         111\n",
       "Jammu_and_Kashmir     53\n",
       "Uttarakhand           50\n",
       "Puducherry            41\n",
       "Manipur               28\n",
       "Mizoram               25\n",
       "Tripura               25\n",
       "Himachal_Pradesh      24\n",
       "Uttar_Pradesh[5]      20\n",
       "Chandigarh            17\n",
       "Sikkim                13\n",
       "Name: Residence_State, dtype: int64"
      ]
     },
     "execution_count": 24,
     "metadata": {},
     "output_type": "execute_result"
    }
   ],
   "source": [
    "df['Residence_State'].value_counts()"
   ]
  },
  {
   "cell_type": "code",
   "execution_count": 25,
   "id": "ff540e3c",
   "metadata": {
    "scrolled": true
   },
   "outputs": [
    {
     "data": {
      "text/html": [
       "<div>\n",
       "<style scoped>\n",
       "    .dataframe tbody tr th:only-of-type {\n",
       "        vertical-align: middle;\n",
       "    }\n",
       "\n",
       "    .dataframe tbody tr th {\n",
       "        vertical-align: top;\n",
       "    }\n",
       "\n",
       "    .dataframe thead th {\n",
       "        text-align: right;\n",
       "    }\n",
       "</style>\n",
       "<table border=\"1\" class=\"dataframe\">\n",
       "  <thead>\n",
       "    <tr style=\"text-align: right;\">\n",
       "      <th></th>\n",
       "      <th>Annual_Income</th>\n",
       "      <th>Applicant_Age</th>\n",
       "      <th>Work_Experience</th>\n",
       "      <th>Marital_Status</th>\n",
       "      <th>House_Ownership</th>\n",
       "      <th>Vehicle_Ownership(car)</th>\n",
       "      <th>Occupation</th>\n",
       "      <th>Residence_City</th>\n",
       "      <th>Residence_State</th>\n",
       "      <th>Years_in_Current_Employment</th>\n",
       "      <th>Years_in_Current_Residence</th>\n",
       "      <th>Loan_Default_Risk</th>\n",
       "    </tr>\n",
       "  </thead>\n",
       "  <tbody>\n",
       "    <tr>\n",
       "      <th>0</th>\n",
       "      <td>9657655</td>\n",
       "      <td>76</td>\n",
       "      <td>0</td>\n",
       "      <td>Single</td>\n",
       "      <td>Rented</td>\n",
       "      <td>No</td>\n",
       "      <td>Psychologist</td>\n",
       "      <td>Jalandhar</td>\n",
       "      <td>Punjab</td>\n",
       "      <td>0</td>\n",
       "      <td>12</td>\n",
       "      <td>0</td>\n",
       "    </tr>\n",
       "    <tr>\n",
       "      <th>1</th>\n",
       "      <td>9259353</td>\n",
       "      <td>37</td>\n",
       "      <td>18</td>\n",
       "      <td>Single</td>\n",
       "      <td>Rented</td>\n",
       "      <td>No</td>\n",
       "      <td>Petroleum_Engineer</td>\n",
       "      <td>Bally</td>\n",
       "      <td>West_Bengal</td>\n",
       "      <td>12</td>\n",
       "      <td>11</td>\n",
       "      <td>0</td>\n",
       "    </tr>\n",
       "    <tr>\n",
       "      <th>2</th>\n",
       "      <td>1509721</td>\n",
       "      <td>66</td>\n",
       "      <td>8</td>\n",
       "      <td>Single</td>\n",
       "      <td>Rented</td>\n",
       "      <td>No</td>\n",
       "      <td>Drafter</td>\n",
       "      <td>Indore</td>\n",
       "      <td>Madhya_Pradesh</td>\n",
       "      <td>4</td>\n",
       "      <td>12</td>\n",
       "      <td>0</td>\n",
       "    </tr>\n",
       "    <tr>\n",
       "      <th>3</th>\n",
       "      <td>5867312</td>\n",
       "      <td>43</td>\n",
       "      <td>1</td>\n",
       "      <td>Single</td>\n",
       "      <td>Owned</td>\n",
       "      <td>No</td>\n",
       "      <td>Chartered_Accountant</td>\n",
       "      <td>Kurnool[18]</td>\n",
       "      <td>Andhra_Pradesh</td>\n",
       "      <td>1</td>\n",
       "      <td>13</td>\n",
       "      <td>1</td>\n",
       "    </tr>\n",
       "    <tr>\n",
       "      <th>4</th>\n",
       "      <td>7223191</td>\n",
       "      <td>44</td>\n",
       "      <td>9</td>\n",
       "      <td>Single</td>\n",
       "      <td>Rented</td>\n",
       "      <td>No</td>\n",
       "      <td>Air_traffic_controller</td>\n",
       "      <td>Asansol</td>\n",
       "      <td>West_Bengal</td>\n",
       "      <td>9</td>\n",
       "      <td>13</td>\n",
       "      <td>0</td>\n",
       "    </tr>\n",
       "  </tbody>\n",
       "</table>\n",
       "</div>"
      ],
      "text/plain": [
       "   Annual_Income  Applicant_Age  Work_Experience Marital_Status  \\\n",
       "0        9657655             76                0         Single   \n",
       "1        9259353             37               18         Single   \n",
       "2        1509721             66                8         Single   \n",
       "3        5867312             43                1         Single   \n",
       "4        7223191             44                9         Single   \n",
       "\n",
       "  House_Ownership Vehicle_Ownership(car)              Occupation  \\\n",
       "0          Rented                     No            Psychologist   \n",
       "1          Rented                     No      Petroleum_Engineer   \n",
       "2          Rented                     No                 Drafter   \n",
       "3           Owned                     No    Chartered_Accountant   \n",
       "4          Rented                     No  Air_traffic_controller   \n",
       "\n",
       "  Residence_City Residence_State  Years_in_Current_Employment  \\\n",
       "0      Jalandhar          Punjab                            0   \n",
       "1          Bally     West_Bengal                           12   \n",
       "2         Indore  Madhya_Pradesh                            4   \n",
       "3    Kurnool[18]  Andhra_Pradesh                            1   \n",
       "4        Asansol     West_Bengal                            9   \n",
       "\n",
       "   Years_in_Current_Residence  Loan_Default_Risk  \n",
       "0                          12                  0  \n",
       "1                          11                  0  \n",
       "2                          12                  0  \n",
       "3                          13                  1  \n",
       "4                          13                  0  "
      ]
     },
     "execution_count": 25,
     "metadata": {},
     "output_type": "execute_result"
    }
   ],
   "source": [
    "df.head()"
   ]
  },
  {
   "cell_type": "markdown",
   "id": "4045bcf1",
   "metadata": {},
   "source": [
    "### Let's come back to numerical cols. and check their distributions and even outliers if possible"
   ]
  },
  {
   "cell_type": "markdown",
   "id": "34edaf2e",
   "metadata": {},
   "source": [
    "### 'Applicant_Age'"
   ]
  },
  {
   "cell_type": "code",
   "execution_count": 26,
   "id": "906fcd1b",
   "metadata": {
    "scrolled": true
   },
   "outputs": [
    {
     "data": {
      "text/plain": [
       "<seaborn.axisgrid.FacetGrid at 0x1bfa83dd3f0>"
      ]
     },
     "execution_count": 26,
     "metadata": {},
     "output_type": "execute_result"
    },
    {
     "data": {
      "image/png": "[encoded data removed]",
      "text/plain": [
       "<Figure size 500x500 with 1 Axes>"
      ]
     },
     "metadata": {},
     "output_type": "display_data"
    }
   ],
   "source": [
    "sns.displot(x=df['Applicant_Age'],kind='kde')"
   ]
  },
  {
   "cell_type": "code",
   "execution_count": 27,
   "id": "9f750315",
   "metadata": {},
   "outputs": [
    {
     "data": {
      "text/plain": [
       "<Axes: xlabel='Applicant_Age'>"
      ]
     },
     "execution_count": 27,
     "metadata": {},
     "output_type": "execute_result"
    },
    {
     "data": {
      "image/png": "[encoded data removed]",
      "text/plain": [
       "<Figure size 640x480 with 1 Axes>"
      ]
     },
     "metadata": {},
     "output_type": "display_data"
    }
   ],
   "source": [
    "sns.boxplot(x=df['Applicant_Age'])"
   ]
  },
  {
   "cell_type": "markdown",
   "id": "5e32bd54",
   "metadata": {},
   "source": [
    "### 'Work_Experience'"
   ]
  },
  {
   "cell_type": "code",
   "execution_count": 28,
   "id": "81192ee7",
   "metadata": {
    "scrolled": false
   },
   "outputs": [
    {
     "data": {
      "text/plain": [
       "<seaborn.axisgrid.FacetGrid at 0x1bfa8400e20>"
      ]
     },
     "execution_count": 28,
     "metadata": {},
     "output_type": "execute_result"
    },
    {
     "data": {
      "image/png": "[encoded data removed]",
      "text/plain": [
       "<Figure size 500x500 with 1 Axes>"
      ]
     },
     "metadata": {},
     "output_type": "display_data"
    }
   ],
   "source": [
    "sns.displot(x=df['Work_Experience'],kind='kde')"
   ]
  },
  {
   "cell_type": "code",
   "execution_count": 29,
   "id": "ea097bbb",
   "metadata": {},
   "outputs": [
    {
     "data": {
      "text/plain": [
       "<Axes: xlabel='Work_Experience'>"
      ]
     },
     "execution_count": 29,
     "metadata": {},
     "output_type": "execute_result"
    },
    {
     "data": {
      "image/png": "[encoded data removed]",
      "text/plain": [
       "<Figure size 640x480 with 1 Axes>"
      ]
     },
     "metadata": {},
     "output_type": "display_data"
    }
   ],
   "source": [
    "sns.boxplot(x=df['Work_Experience'])"
   ]
  },
  {
   "cell_type": "markdown",
   "id": "be6aea28",
   "metadata": {},
   "source": [
    "### 'Annual_Income'"
   ]
  },
  {
   "cell_type": "code",
   "execution_count": 30,
   "id": "cace6370",
   "metadata": {
    "scrolled": false
   },
   "outputs": [
    {
     "data": {
      "text/plain": [
       "<seaborn.axisgrid.FacetGrid at 0x1bfa8bf5480>"
      ]
     },
     "execution_count": 30,
     "metadata": {},
     "output_type": "execute_result"
    },
    {
     "data": {
      "image/png": "[encoded data removed]",
      "text/plain": [
       "<Figure size 500x500 with 1 Axes>"
      ]
     },
     "metadata": {},
     "output_type": "display_data"
    }
   ],
   "source": [
    "sns.displot(x=df['Annual_Income'],kind='kde')"
   ]
  },
  {
   "cell_type": "code",
   "execution_count": 31,
   "id": "5f4d2690",
   "metadata": {},
   "outputs": [
    {
     "data": {
      "text/plain": [
       "<Axes: xlabel='Annual_Income'>"
      ]
     },
     "execution_count": 31,
     "metadata": {},
     "output_type": "execute_result"
    },
    {
     "data": {
      "image/png": "[encoded data removed]",
      "text/plain": [
       "<Figure size 640x480 with 1 Axes>"
      ]
     },
     "metadata": {},
     "output_type": "display_data"
    }
   ],
   "source": [
    "sns.boxplot(x=df['Annual_Income'])"
   ]
  },
  {
   "cell_type": "code",
   "execution_count": 32,
   "id": "076489bf",
   "metadata": {},
   "outputs": [],
   "source": [
    "def shorten_cat(x,cut_off):\n",
    "    cat_map = {}\n",
    "    for i in range(len(x)):\n",
    "        if x.values[i] >= cut_off:\n",
    "            cat_map[x.index[i]] = x.index[i]\n",
    "        else:\n",
    "            cat_map[x.index[i]] = 'Other'\n",
    "    return cat_map"
   ]
  },
  {
   "cell_type": "code",
   "execution_count": 33,
   "id": "6ef61569",
   "metadata": {},
   "outputs": [],
   "source": [
    "df['Residence_City'] = df['Residence_City'].map(shorten_cat(df['Residence_City'].value_counts(),20))\n",
    "df['Residence_State'] = df['Residence_State'].map(shorten_cat(df['Residence_State'].value_counts(),100))"
   ]
  },
  {
   "cell_type": "code",
   "execution_count": 34,
   "id": "d5d126d8",
   "metadata": {},
   "outputs": [],
   "source": [
    "df = df[df['Residence_City'] != 'Other']"
   ]
  },
  {
   "cell_type": "code",
   "execution_count": 35,
   "id": "12e16727",
   "metadata": {},
   "outputs": [],
   "source": [
    "df = df[df['Residence_State'] != 'Other']"
   ]
  },
  {
   "cell_type": "code",
   "execution_count": 36,
   "id": "c70588c2",
   "metadata": {},
   "outputs": [
    {
     "data": {
      "text/plain": [
       "array(['Punjab', 'Madhya_Pradesh', 'Andhra_Pradesh', 'Assam', 'Bihar',\n",
       "       'Rajasthan', 'West_Bengal', 'Uttar_Pradesh', 'Karnataka',\n",
       "       'Haryana', 'Maharashtra', 'Chhattisgarh', 'Kerala', 'Delhi',\n",
       "       'Tamil_Nadu', 'Jharkhand', 'Gujarat', 'Odisha', 'Telangana'],\n",
       "      dtype=object)"
      ]
     },
     "execution_count": 36,
     "metadata": {},
     "output_type": "execute_result"
    }
   ],
   "source": [
    "df['Residence_State'].unique()"
   ]
  },
  {
   "cell_type": "code",
   "execution_count": 37,
   "id": "f7e40179",
   "metadata": {},
   "outputs": [
    {
     "data": {
      "text/plain": [
       "array(['Jalandhar', 'Indore', 'Kurnool[18]', 'Bongaigaon', 'Katihar',\n",
       "       'Sikar', 'Chinsurah', 'Muzaffarnagar', 'Darbhanga', 'Adoni',\n",
       "       'Ludhiana', 'Amroha', 'Aligarh', 'Udupi', 'Sonipat', 'Raebareli',\n",
       "       'Nashik', 'Bilaspur', 'Davanagere', 'Kakinada', 'Dhule', 'Bhind',\n",
       "       'Kollam', 'Durg', 'Ajmer', 'Malegaon', 'Kottayam',\n",
       "       'Bhalswa_Jahangir_Pur', 'Guna', 'Hapur', 'Thiruvananthapuram',\n",
       "       'Rewa', 'Jorhat', 'Ambattur', 'Sambhal', 'Bellary', 'New_Delhi',\n",
       "       'South_Dumdum', 'Pimpri-Chinchwad', 'Nangloi_Jat',\n",
       "       'Anantapuram[24]', 'Mangalore', 'Hazaribagh', 'Kumbakonam',\n",
       "       'Jhansi', 'Proddatur', 'Bhagalpur', 'Madanapalle', 'Tiruppur',\n",
       "       'Jehanabad[38]', 'Machilipatnam', 'Howrah', 'Kolkata', 'Phagwara',\n",
       "       'Bhusawal', 'Giridih', 'Bhopal', 'Jalgaon', 'Deoghar', 'Jamnagar',\n",
       "       'Navi_Mumbai', 'Akola', 'Bhatpara', 'North_Dumdum', 'Ichalkaranji',\n",
       "       'Tirupati[21][22]', 'Surendranagar_Dudhrej', 'Junagadh',\n",
       "       'Thrissur', 'Jaipur', 'Arrah', 'Vadodara', 'Sambalpur',\n",
       "       'Baranagar', 'Bulandshahr', 'Vijayanagaram', 'Raipur', 'Hyderabad',\n",
       "       'Siliguri', 'Pali', 'Saharsa[29]', 'Pallavaram', 'Vellore',\n",
       "       'Anand', 'Sirsa', 'Nadiad', 'Pune', 'Malda', 'Bareilly', 'Satara',\n",
       "       'Hajipur[31]', 'Gorakhpur', 'Tumkur', 'Bahraich', 'Uluberia',\n",
       "       'Panipat', 'Bidhannagar', 'Mirzapur', 'Erode[17]', 'Jodhpur',\n",
       "       'Salem', 'Rajpur_Sonarpur', 'Ramagundam[27]', 'Durgapur',\n",
       "       'Bhavnagar', 'Tiruvottiyur', 'Berhampore', 'Satna', 'Mango',\n",
       "       'Guntur[13]', 'Panihati', 'Ghaziabad', 'Bharatpur', 'Buxar[37]',\n",
       "       'Nagpur', 'Bhiwani', 'Rajkot', 'Mathura', 'Kochi', 'Shimoga',\n",
       "       'Kadapa[23]', 'Gandhidham', 'Kulti', 'Hospet', 'Dharmavaram',\n",
       "       'Kavali', 'Siwan[32]', 'Nanded', 'Bidar', 'Ambala', 'Tinsukia',\n",
       "       'Tiruchirappalli[10]', 'Gulbarga', 'Phusro', 'Serampore',\n",
       "       'Ambarnath', 'Khora,_Ghaziabad', 'Aurangabad', 'Mehsana',\n",
       "       'Singrauli', 'Amaravati', 'Pudukkottai', 'Mysore[7][8][9]',\n",
       "       'Bhilai', 'Bhilwara', 'Barasat', 'Tirunelveli', 'Kamarhati',\n",
       "       'Silchar', 'Agra', 'Surat', 'Madurai', 'Ulhasnagar',\n",
       "       'Kishanganj[35]', 'Burhanpur', 'Parbhani', 'Orai', 'Unnao',\n",
       "       'Jabalpur', 'Raurkela_Industrial_Township', 'Miryalaguda',\n",
       "       'Vijayawada', 'Amravati', 'Mau', 'Saharanpur', 'Jalna',\n",
       "       'Vasai-Virar', 'Bathinda', 'Ranchi', 'Begusarai', 'Nandyal',\n",
       "       'Thoothukudi', 'Ballia', 'Ahmedabad', 'Solapur', 'Cuttack',\n",
       "       'Haldia', 'Khammam', 'Panvel', 'Dibrugarh', 'Danapur',\n",
       "       'Farrukhabad', 'Suryapet', 'Bhubaneswar', 'Medininagar', 'Morena',\n",
       "       'Belgaum', 'Kirari_Suleman_Nagar', 'Thanjavur', 'Ratlam',\n",
       "       'Karawal_Nagar', 'Dehri[30]', 'Visakhapatnam[4]', 'Thane', 'Morbi',\n",
       "       'Muzaffarpur', 'Raiganj', 'Shivpuri', 'Mahbubnagar',\n",
       "       'Chittoor[28]', 'Jaunpur', 'Chapra', 'Tezpur', 'Alwar', 'Ongole',\n",
       "       'Gopalpur', 'Eluru[25]', 'Munger', 'Maheshtala', 'Bardhaman',\n",
       "       'Nagaon', 'Dindigul', 'Kanpur', 'Guwahati'], dtype=object)"
      ]
     },
     "execution_count": 37,
     "metadata": {},
     "output_type": "execute_result"
    }
   ],
   "source": [
    "df['Residence_City'].unique()"
   ]
  },
  {
   "cell_type": "markdown",
   "id": "3a8d2571",
   "metadata": {},
   "source": [
    "### Convert cat to num..."
   ]
  },
  {
   "cell_type": "code",
   "execution_count": 38,
   "id": "893c09dc",
   "metadata": {
    "scrolled": true
   },
   "outputs": [
    {
     "data": {
      "text/plain": [
       "Rented    4963\n",
       "Owned      292\n",
       "None       146\n",
       "Name: House_Ownership, dtype: int64"
      ]
     },
     "execution_count": 38,
     "metadata": {},
     "output_type": "execute_result"
    }
   ],
   "source": [
    "df['House_Ownership'].value_counts()"
   ]
  },
  {
   "cell_type": "code",
   "execution_count": 39,
   "id": "56940013",
   "metadata": {},
   "outputs": [],
   "source": [
    "df['Marital_Status'] = df['Marital_Status'].map({'Single':1,'Married':0})\n",
    "df['House_Ownership'] = df['House_Ownership'].map({'Rented':2,'Owned':1,'None':0})\n",
    "df['Vehicle_Ownership(car)'] = df['Vehicle_Ownership(car)'].map({'No':1,'Yes':0})"
   ]
  },
  {
   "cell_type": "code",
   "execution_count": 40,
   "id": "a7867f48",
   "metadata": {},
   "outputs": [
    {
     "data": {
      "text/plain": [
       "(5401, 12)"
      ]
     },
     "execution_count": 40,
     "metadata": {},
     "output_type": "execute_result"
    }
   ],
   "source": [
    "df.shape"
   ]
  },
  {
   "cell_type": "code",
   "execution_count": 41,
   "id": "d4c06de1",
   "metadata": {},
   "outputs": [
    {
     "data": {
      "text/html": [
       "<div>\n",
       "<style scoped>\n",
       "    .dataframe tbody tr th:only-of-type {\n",
       "        vertical-align: middle;\n",
       "    }\n",
       "\n",
       "    .dataframe tbody tr th {\n",
       "        vertical-align: top;\n",
       "    }\n",
       "\n",
       "    .dataframe thead th {\n",
       "        text-align: right;\n",
       "    }\n",
       "</style>\n",
       "<table border=\"1\" class=\"dataframe\">\n",
       "  <thead>\n",
       "    <tr style=\"text-align: right;\">\n",
       "      <th></th>\n",
       "      <th>Annual_Income</th>\n",
       "      <th>Applicant_Age</th>\n",
       "      <th>Work_Experience</th>\n",
       "      <th>Marital_Status</th>\n",
       "      <th>House_Ownership</th>\n",
       "      <th>Vehicle_Ownership(car)</th>\n",
       "      <th>Occupation</th>\n",
       "      <th>Residence_City</th>\n",
       "      <th>Residence_State</th>\n",
       "      <th>Years_in_Current_Employment</th>\n",
       "      <th>Years_in_Current_Residence</th>\n",
       "      <th>Loan_Default_Risk</th>\n",
       "    </tr>\n",
       "  </thead>\n",
       "  <tbody>\n",
       "    <tr>\n",
       "      <th>0</th>\n",
       "      <td>9657655</td>\n",
       "      <td>76</td>\n",
       "      <td>0</td>\n",
       "      <td>1</td>\n",
       "      <td>2</td>\n",
       "      <td>1</td>\n",
       "      <td>Psychologist</td>\n",
       "      <td>Jalandhar</td>\n",
       "      <td>Punjab</td>\n",
       "      <td>0</td>\n",
       "      <td>12</td>\n",
       "      <td>0</td>\n",
       "    </tr>\n",
       "    <tr>\n",
       "      <th>2</th>\n",
       "      <td>1509721</td>\n",
       "      <td>66</td>\n",
       "      <td>8</td>\n",
       "      <td>1</td>\n",
       "      <td>2</td>\n",
       "      <td>1</td>\n",
       "      <td>Drafter</td>\n",
       "      <td>Indore</td>\n",
       "      <td>Madhya_Pradesh</td>\n",
       "      <td>4</td>\n",
       "      <td>12</td>\n",
       "      <td>0</td>\n",
       "    </tr>\n",
       "    <tr>\n",
       "      <th>3</th>\n",
       "      <td>5867312</td>\n",
       "      <td>43</td>\n",
       "      <td>1</td>\n",
       "      <td>1</td>\n",
       "      <td>1</td>\n",
       "      <td>1</td>\n",
       "      <td>Chartered_Accountant</td>\n",
       "      <td>Kurnool[18]</td>\n",
       "      <td>Andhra_Pradesh</td>\n",
       "      <td>1</td>\n",
       "      <td>13</td>\n",
       "      <td>1</td>\n",
       "    </tr>\n",
       "    <tr>\n",
       "      <th>5</th>\n",
       "      <td>1161425</td>\n",
       "      <td>45</td>\n",
       "      <td>14</td>\n",
       "      <td>1</td>\n",
       "      <td>2</td>\n",
       "      <td>1</td>\n",
       "      <td>Biomedical_Engineer</td>\n",
       "      <td>Bongaigaon</td>\n",
       "      <td>Assam</td>\n",
       "      <td>13</td>\n",
       "      <td>13</td>\n",
       "      <td>0</td>\n",
       "    </tr>\n",
       "    <tr>\n",
       "      <th>6</th>\n",
       "      <td>7059529</td>\n",
       "      <td>63</td>\n",
       "      <td>8</td>\n",
       "      <td>1</td>\n",
       "      <td>2</td>\n",
       "      <td>0</td>\n",
       "      <td>Fashion_Designer</td>\n",
       "      <td>Katihar</td>\n",
       "      <td>Bihar</td>\n",
       "      <td>8</td>\n",
       "      <td>13</td>\n",
       "      <td>1</td>\n",
       "    </tr>\n",
       "  </tbody>\n",
       "</table>\n",
       "</div>"
      ],
      "text/plain": [
       "   Annual_Income  Applicant_Age  Work_Experience  Marital_Status  \\\n",
       "0        9657655             76                0               1   \n",
       "2        1509721             66                8               1   \n",
       "3        5867312             43                1               1   \n",
       "5        1161425             45               14               1   \n",
       "6        7059529             63                8               1   \n",
       "\n",
       "   House_Ownership  Vehicle_Ownership(car)            Occupation  \\\n",
       "0                2                       1          Psychologist   \n",
       "2                2                       1               Drafter   \n",
       "3                1                       1  Chartered_Accountant   \n",
       "5                2                       1   Biomedical_Engineer   \n",
       "6                2                       0      Fashion_Designer   \n",
       "\n",
       "  Residence_City Residence_State  Years_in_Current_Employment  \\\n",
       "0      Jalandhar          Punjab                            0   \n",
       "2         Indore  Madhya_Pradesh                            4   \n",
       "3    Kurnool[18]  Andhra_Pradesh                            1   \n",
       "5     Bongaigaon           Assam                           13   \n",
       "6        Katihar           Bihar                            8   \n",
       "\n",
       "   Years_in_Current_Residence  Loan_Default_Risk  \n",
       "0                          12                  0  \n",
       "2                          12                  0  \n",
       "3                          13                  1  \n",
       "5                          13                  0  \n",
       "6                          13                  1  "
      ]
     },
     "execution_count": 41,
     "metadata": {},
     "output_type": "execute_result"
    }
   ],
   "source": [
    "df.head()"
   ]
  },
  {
   "cell_type": "code",
   "execution_count": 42,
   "id": "4e83470b",
   "metadata": {},
   "outputs": [],
   "source": [
    "le_occ = LabelEncoder()\n",
    "le_res_city = LabelEncoder()\n",
    "le_res_state = LabelEncoder()\n",
    "df['Occupation'] = le_occ.fit_transform(df['Occupation'])\n",
    "df['Residence_City'] = le_res_city.fit_transform(df['Residence_City'])\n",
    "df['Residence_State'] = le_res_state.fit_transform(df['Residence_State'])"
   ]
  },
  {
   "cell_type": "code",
   "execution_count": 43,
   "id": "4018a061",
   "metadata": {},
   "outputs": [
    {
     "data": {
      "text/html": [
       "<div>\n",
       "<style scoped>\n",
       "    .dataframe tbody tr th:only-of-type {\n",
       "        vertical-align: middle;\n",
       "    }\n",
       "\n",
       "    .dataframe tbody tr th {\n",
       "        vertical-align: top;\n",
       "    }\n",
       "\n",
       "    .dataframe thead th {\n",
       "        text-align: right;\n",
       "    }\n",
       "</style>\n",
       "<table border=\"1\" class=\"dataframe\">\n",
       "  <thead>\n",
       "    <tr style=\"text-align: right;\">\n",
       "      <th></th>\n",
       "      <th>Annual_Income</th>\n",
       "      <th>Applicant_Age</th>\n",
       "      <th>Work_Experience</th>\n",
       "      <th>Marital_Status</th>\n",
       "      <th>House_Ownership</th>\n",
       "      <th>Vehicle_Ownership(car)</th>\n",
       "      <th>Occupation</th>\n",
       "      <th>Residence_City</th>\n",
       "      <th>Residence_State</th>\n",
       "      <th>Years_in_Current_Employment</th>\n",
       "      <th>Years_in_Current_Residence</th>\n",
       "      <th>Loan_Default_Risk</th>\n",
       "    </tr>\n",
       "  </thead>\n",
       "  <tbody>\n",
       "    <tr>\n",
       "      <th>0</th>\n",
       "      <td>9657655</td>\n",
       "      <td>76</td>\n",
       "      <td>0</td>\n",
       "      <td>1</td>\n",
       "      <td>2</td>\n",
       "      <td>1</td>\n",
       "      <td>40</td>\n",
       "      <td>85</td>\n",
       "      <td>13</td>\n",
       "      <td>0</td>\n",
       "      <td>12</td>\n",
       "      <td>0</td>\n",
       "    </tr>\n",
       "    <tr>\n",
       "      <th>2</th>\n",
       "      <td>1509721</td>\n",
       "      <td>66</td>\n",
       "      <td>8</td>\n",
       "      <td>1</td>\n",
       "      <td>2</td>\n",
       "      <td>1</td>\n",
       "      <td>19</td>\n",
       "      <td>82</td>\n",
       "      <td>10</td>\n",
       "      <td>4</td>\n",
       "      <td>12</td>\n",
       "      <td>0</td>\n",
       "    </tr>\n",
       "  </tbody>\n",
       "</table>\n",
       "</div>"
      ],
      "text/plain": [
       "   Annual_Income  Applicant_Age  Work_Experience  Marital_Status  \\\n",
       "0        9657655             76                0               1   \n",
       "2        1509721             66                8               1   \n",
       "\n",
       "   House_Ownership  Vehicle_Ownership(car)  Occupation  Residence_City  \\\n",
       "0                2                       1          40              85   \n",
       "2                2                       1          19              82   \n",
       "\n",
       "   Residence_State  Years_in_Current_Employment  Years_in_Current_Residence  \\\n",
       "0               13                            0                          12   \n",
       "2               10                            4                          12   \n",
       "\n",
       "   Loan_Default_Risk  \n",
       "0                  0  \n",
       "2                  0  "
      ]
     },
     "execution_count": 43,
     "metadata": {},
     "output_type": "execute_result"
    }
   ],
   "source": [
    "df.head(2)"
   ]
  },
  {
   "cell_type": "code",
   "execution_count": 44,
   "id": "f22df98e",
   "metadata": {},
   "outputs": [],
   "source": [
    "X = df.drop('Loan_Default_Risk',axis = 1)\n",
    "y = df['Loan_Default_Risk']"
   ]
  },
  {
   "cell_type": "markdown",
   "id": "37f51efa",
   "metadata": {},
   "source": [
    "### Performing feature selection"
   ]
  },
  {
   "cell_type": "code",
   "execution_count": 45,
   "id": "f33f8e43",
   "metadata": {},
   "outputs": [
    {
     "data": {
      "text/html": [
       "<style>#sk-container-id-1 {color: black;background-color: white;}#sk-container-id-1 pre{padding: 0;}#sk-container-id-1 div.sk-toggleable {background-color: white;}#sk-container-id-1 label.sk-toggleable__label {cursor: pointer;display: block;width: 100%;margin-bottom: 0;padding: 0.3em;box-sizing: border-box;text-align: center;}#sk-container-id-1 label.sk-toggleable__label-arrow:before {content: \"▸\";float: left;margin-right: 0.25em;color: #696969;}#sk-container-id-1 label.sk-toggleable__label-arrow:hover:before {color: black;}#sk-container-id-1 div.sk-estimator:hover label.sk-toggleable__label-arrow:before {color: black;}#sk-container-id-1 div.sk-toggleable__content {max-height: 0;max-width: 0;overflow: hidden;text-align: left;background-color: #f0f8ff;}#sk-container-id-1 div.sk-toggleable__content pre {margin: 0.2em;color: black;border-radius: 0.25em;background-color: #f0f8ff;}#sk-container-id-1 input.sk-toggleable__control:checked~div.sk-toggleable__content {max-height: 200px;max-width: 100%;overflow: auto;}#sk-container-id-1 input.sk-toggleable__control:checked~label.sk-toggleable__label-arrow:before {content: \"▾\";}#sk-container-id-1 div.sk-estimator input.sk-toggleable__control:checked~label.sk-toggleable__label {background-color: #d4ebff;}#sk-container-id-1 div.sk-label input.sk-toggleable__control:checked~label.sk-toggleable__label {background-color: #d4ebff;}#sk-container-id-1 input.sk-hidden--visually {border: 0;clip: rect(1px 1px 1px 1px);clip: rect(1px, 1px, 1px, 1px);height: 1px;margin: -1px;overflow: hidden;padding: 0;position: absolute;width: 1px;}#sk-container-id-1 div.sk-estimator {font-family: monospace;background-color: #f0f8ff;border: 1px dotted black;border-radius: 0.25em;box-sizing: border-box;margin-bottom: 0.5em;}#sk-container-id-1 div.sk-estimator:hover {background-color: #d4ebff;}#sk-container-id-1 div.sk-parallel-item::after {content: \"\";width: 100%;border-bottom: 1px solid gray;flex-grow: 1;}#sk-container-id-1 div.sk-label:hover label.sk-toggleable__label {background-color: #d4ebff;}#sk-container-id-1 div.sk-serial::before {content: \"\";position: absolute;border-left: 1px solid gray;box-sizing: border-box;top: 0;bottom: 0;left: 50%;z-index: 0;}#sk-container-id-1 div.sk-serial {display: flex;flex-direction: column;align-items: center;background-color: white;padding-right: 0.2em;padding-left: 0.2em;position: relative;}#sk-container-id-1 div.sk-item {position: relative;z-index: 1;}#sk-container-id-1 div.sk-parallel {display: flex;align-items: stretch;justify-content: center;background-color: white;position: relative;}#sk-container-id-1 div.sk-item::before, #sk-container-id-1 div.sk-parallel-item::before {content: \"\";position: absolute;border-left: 1px solid gray;box-sizing: border-box;top: 0;bottom: 0;left: 50%;z-index: -1;}#sk-container-id-1 div.sk-parallel-item {display: flex;flex-direction: column;z-index: 1;position: relative;background-color: white;}#sk-container-id-1 div.sk-parallel-item:first-child::after {align-self: flex-end;width: 50%;}#sk-container-id-1 div.sk-parallel-item:last-child::after {align-self: flex-start;width: 50%;}#sk-container-id-1 div.sk-parallel-item:only-child::after {width: 0;}#sk-container-id-1 div.sk-dashed-wrapped {border: 1px dashed gray;margin: 0 0.4em 0.5em 0.4em;box-sizing: border-box;padding-bottom: 0.4em;background-color: white;}#sk-container-id-1 div.sk-label label {font-family: monospace;font-weight: bold;display: inline-block;line-height: 1.2em;}#sk-container-id-1 div.sk-label-container {text-align: center;}#sk-container-id-1 div.sk-container {/* jupyter's `normalize.less` sets `[hidden] { display: none; }` but bootstrap.min.css set `[hidden] { display: none !important; }` so we also need the `!important` here to be able to override the default hidden behavior on the sphinx rendered scikit-learn.org. See: https://github.com/scikit-learn/scikit-learn/issues/21755 */display: inline-block !important;position: relative;}#sk-container-id-1 div.sk-text-repr-fallback {display: none;}</style><div id=\"sk-container-id-1\" class=\"sk-top-container\"><div class=\"sk-text-repr-fallback\"><pre>SelectKBest(k=&#x27;all&#x27;)</pre><b>In a Jupyter environment, please rerun this cell to show the HTML representation or trust the notebook. <br />On GitHub, the HTML representation is unable to render, please try loading this page with nbviewer.org.</b></div><div class=\"sk-container\" hidden><div class=\"sk-item\"><div class=\"sk-estimator sk-toggleable\"><input class=\"sk-toggleable__control sk-hidden--visually\" id=\"sk-estimator-id-1\" type=\"checkbox\" checked><label for=\"sk-estimator-id-1\" class=\"sk-toggleable__label sk-toggleable__label-arrow\">SelectKBest</label><div class=\"sk-toggleable__content\"><pre>SelectKBest(k=&#x27;all&#x27;)</pre></div></div></div></div></div>"
      ],
      "text/plain": [
       "SelectKBest(k='all')"
      ]
     },
     "execution_count": 45,
     "metadata": {},
     "output_type": "execute_result"
    }
   ],
   "source": [
    "from sklearn.feature_selection import f_classif,SelectKBest\n",
    "fs = SelectKBest(score_func = f_classif,k = 'all')\n",
    "fs.fit(X,y)"
   ]
  },
  {
   "cell_type": "code",
   "execution_count": 46,
   "id": "cb59fc0e",
   "metadata": {},
   "outputs": [
    {
     "name": "stdout",
     "output_type": "stream",
     "text": [
      "                        feature     score\n",
      "0                 Annual_Income  0.057641\n",
      "1                 Applicant_Age  0.011447\n",
      "2               Work_Experience  2.598998\n",
      "3                Marital_Status  0.185108\n",
      "4               House_Ownership  1.258063\n",
      "5        Vehicle_Ownership(car)  1.836835\n",
      "6                    Occupation  0.051881\n",
      "7                Residence_City  0.165800\n",
      "8               Residence_State  0.711195\n",
      "9   Years_in_Current_Employment  0.022118\n",
      "10   Years_in_Current_Residence  0.542657\n"
     ]
    }
   ],
   "source": [
    "features = pd.DataFrame(X.columns)\n",
    "scores = pd.DataFrame(fs.scores_)\n",
    "feature_score = pd.concat([features,scores],axis = 1)\n",
    "feature_score.columns = ['feature','score']\n",
    "print(feature_score)"
   ]
  },
  {
   "cell_type": "code",
   "execution_count": 47,
   "id": "3353d86a",
   "metadata": {},
   "outputs": [],
   "source": [
    "X = X[['Work_Experience','House_Ownership','Vehicle_Ownership(car)','Residence_State','Years_in_Current_Residence']]"
   ]
  },
  {
   "cell_type": "code",
   "execution_count": 48,
   "id": "e3ca972b",
   "metadata": {},
   "outputs": [
    {
     "data": {
      "text/html": [
       "<div>\n",
       "<style scoped>\n",
       "    .dataframe tbody tr th:only-of-type {\n",
       "        vertical-align: middle;\n",
       "    }\n",
       "\n",
       "    .dataframe tbody tr th {\n",
       "        vertical-align: top;\n",
       "    }\n",
       "\n",
       "    .dataframe thead th {\n",
       "        text-align: right;\n",
       "    }\n",
       "</style>\n",
       "<table border=\"1\" class=\"dataframe\">\n",
       "  <thead>\n",
       "    <tr style=\"text-align: right;\">\n",
       "      <th></th>\n",
       "      <th>Work_Experience</th>\n",
       "      <th>House_Ownership</th>\n",
       "      <th>Vehicle_Ownership(car)</th>\n",
       "      <th>Residence_State</th>\n",
       "      <th>Years_in_Current_Residence</th>\n",
       "    </tr>\n",
       "  </thead>\n",
       "  <tbody>\n",
       "    <tr>\n",
       "      <th>0</th>\n",
       "      <td>0</td>\n",
       "      <td>2</td>\n",
       "      <td>1</td>\n",
       "      <td>13</td>\n",
       "      <td>12</td>\n",
       "    </tr>\n",
       "    <tr>\n",
       "      <th>2</th>\n",
       "      <td>8</td>\n",
       "      <td>2</td>\n",
       "      <td>1</td>\n",
       "      <td>10</td>\n",
       "      <td>12</td>\n",
       "    </tr>\n",
       "    <tr>\n",
       "      <th>3</th>\n",
       "      <td>1</td>\n",
       "      <td>1</td>\n",
       "      <td>1</td>\n",
       "      <td>0</td>\n",
       "      <td>13</td>\n",
       "    </tr>\n",
       "    <tr>\n",
       "      <th>5</th>\n",
       "      <td>14</td>\n",
       "      <td>2</td>\n",
       "      <td>1</td>\n",
       "      <td>1</td>\n",
       "      <td>13</td>\n",
       "    </tr>\n",
       "    <tr>\n",
       "      <th>6</th>\n",
       "      <td>8</td>\n",
       "      <td>2</td>\n",
       "      <td>0</td>\n",
       "      <td>2</td>\n",
       "      <td>13</td>\n",
       "    </tr>\n",
       "    <tr>\n",
       "      <th>...</th>\n",
       "      <td>...</td>\n",
       "      <td>...</td>\n",
       "      <td>...</td>\n",
       "      <td>...</td>\n",
       "      <td>...</td>\n",
       "    </tr>\n",
       "    <tr>\n",
       "      <th>93925</th>\n",
       "      <td>1</td>\n",
       "      <td>2</td>\n",
       "      <td>1</td>\n",
       "      <td>18</td>\n",
       "      <td>12</td>\n",
       "    </tr>\n",
       "    <tr>\n",
       "      <th>94692</th>\n",
       "      <td>15</td>\n",
       "      <td>2</td>\n",
       "      <td>1</td>\n",
       "      <td>2</td>\n",
       "      <td>14</td>\n",
       "    </tr>\n",
       "    <tr>\n",
       "      <th>95685</th>\n",
       "      <td>7</td>\n",
       "      <td>2</td>\n",
       "      <td>1</td>\n",
       "      <td>1</td>\n",
       "      <td>13</td>\n",
       "    </tr>\n",
       "    <tr>\n",
       "      <th>96575</th>\n",
       "      <td>2</td>\n",
       "      <td>2</td>\n",
       "      <td>1</td>\n",
       "      <td>17</td>\n",
       "      <td>10</td>\n",
       "    </tr>\n",
       "    <tr>\n",
       "      <th>99419</th>\n",
       "      <td>10</td>\n",
       "      <td>2</td>\n",
       "      <td>1</td>\n",
       "      <td>18</td>\n",
       "      <td>11</td>\n",
       "    </tr>\n",
       "  </tbody>\n",
       "</table>\n",
       "<p>5401 rows × 5 columns</p>\n",
       "</div>"
      ],
      "text/plain": [
       "       Work_Experience  House_Ownership  Vehicle_Ownership(car)  \\\n",
       "0                    0                2                       1   \n",
       "2                    8                2                       1   \n",
       "3                    1                1                       1   \n",
       "5                   14                2                       1   \n",
       "6                    8                2                       0   \n",
       "...                ...              ...                     ...   \n",
       "93925                1                2                       1   \n",
       "94692               15                2                       1   \n",
       "95685                7                2                       1   \n",
       "96575                2                2                       1   \n",
       "99419               10                2                       1   \n",
       "\n",
       "       Residence_State  Years_in_Current_Residence  \n",
       "0                   13                          12  \n",
       "2                   10                          12  \n",
       "3                    0                          13  \n",
       "5                    1                          13  \n",
       "6                    2                          13  \n",
       "...                ...                         ...  \n",
       "93925               18                          12  \n",
       "94692                2                          14  \n",
       "95685                1                          13  \n",
       "96575               17                          10  \n",
       "99419               18                          11  \n",
       "\n",
       "[5401 rows x 5 columns]"
      ]
     },
     "execution_count": 48,
     "metadata": {},
     "output_type": "execute_result"
    }
   ],
   "source": [
    "X"
   ]
  },
  {
   "cell_type": "code",
   "execution_count": 49,
   "id": "6a951e23",
   "metadata": {},
   "outputs": [],
   "source": [
    "X_train,X_test,y_train,y_test = train_test_split(X,y,test_size = 0.3,random_state = 42)"
   ]
  },
  {
   "cell_type": "markdown",
   "id": "bc51ded0",
   "metadata": {},
   "source": [
    "### Scaling the data"
   ]
  },
  {
   "cell_type": "code",
   "execution_count": 50,
   "id": "847e9d62",
   "metadata": {},
   "outputs": [],
   "source": [
    "scaler = StandardScaler()\n",
    "X_train = scaler.fit_transform(X_train)\n",
    "X_test = scaler.transform(X_test)"
   ]
  },
  {
   "cell_type": "markdown",
   "id": "3f1e9022",
   "metadata": {},
   "source": [
    "### Building 3 models and picking the best"
   ]
  },
  {
   "cell_type": "code",
   "execution_count": 51,
   "id": "74c500e8",
   "metadata": {},
   "outputs": [],
   "source": [
    "model = RandomForestClassifier()\n",
    "model.fit(X_train,y_train)\n",
    "pred = model.predict(X_test)\n",
    "model1 = LogisticRegression()\n",
    "model1.fit(X_train,y_train)\n",
    "prediction = model1.predict(X_test)\n",
    "model2 = SVC()\n",
    "model2.fit(X_train,y_train)\n",
    "y_pred = model2.predict(X_test)"
   ]
  },
  {
   "cell_type": "code",
   "execution_count": 52,
   "id": "4e856f47",
   "metadata": {
    "scrolled": true
   },
   "outputs": [
    {
     "name": "stdout",
     "output_type": "stream",
     "text": [
      "RandomForest's score; 0.7452190006169032\n",
      "SVC's score; 0.8396051819864281\n",
      "Logistic Regression's score; 0.8396051819864281\n"
     ]
    }
   ],
   "source": [
    "print(f\"RandomForest's score; {accuracy_score(y_test,pred)}\")\n",
    "print(f\"SVC's score; {accuracy_score(y_test,y_pred)}\")\n",
    "print(f\"Logistic Regression's score; {accuracy_score(y_test,prediction)}\")"
   ]
  },
  {
   "cell_type": "code",
   "execution_count": 54,
   "id": "9c4b50f6",
   "metadata": {},
   "outputs": [],
   "source": [
    "import pickle\n",
    "data = {'model':model1,'le_res_state':le_res_state}\n",
    "with open('Loan.pkl','wb') as file:\n",
    "    pickle.dump(data,file)"
   ]
  },
  {
   "cell_type": "code",
   "execution_count": null,
   "id": "7fb60d88",
   "metadata": {},
   "outputs": [],
   "source": []
  }
 ],
 "metadata": {
  "kernelspec": {
   "display_name": "Python 3 (ipykernel)",
   "language": "python",
   "name": "python3"
  },
  "language_info": {
   "codemirror_mode": {
    "name": "ipython",
    "version": 3
   },
   "file_extension": ".py",
   "mimetype": "text/x-python",
   "name": "python",
   "nbconvert_exporter": "python",
   "pygments_lexer": "ipython3",
   "version": "3.10.9"
  }
 },
 "nbformat": 4,
 "nbformat_minor": 5
}
